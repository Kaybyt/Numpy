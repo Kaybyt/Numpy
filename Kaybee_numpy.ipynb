{
 "cells": [
  {
   "cell_type": "code",
   "execution_count": null,
   "id": "0c60a248-528b-44b4-88e4-a7c4c107f60a",
   "metadata": {},
   "outputs": [],
   "source": [
    "## INITIATING NUMPY PACKAGE"
   ]
  },
  {
   "cell_type": "code",
   "execution_count": 36,
   "id": "5f139f9e-7895-4439-9ddb-9375c4bca0c6",
   "metadata": {},
   "outputs": [],
   "source": [
    "import numpy as np"
   ]
  },
  {
   "cell_type": "code",
   "execution_count": 38,
   "id": "8c5a5ae5-87d7-4a4e-a6af-4e0ce467ed37",
   "metadata": {},
   "outputs": [],
   "source": [
    "grades = np.array([85, 90, 88, 92, 95, 80, 75, 98, 89, 83])"
   ]
  },
  {
   "cell_type": "code",
   "execution_count": 40,
   "id": "2ad19042-eda1-4e2c-8705-3d6dc8dfc293",
   "metadata": {},
   "outputs": [
    {
     "data": {
      "text/plain": [
       "array([85, 90, 88, 92, 95, 80, 75, 98, 89, 83])"
      ]
     },
     "execution_count": 40,
     "metadata": {},
     "output_type": "execute_result"
    }
   ],
   "source": [
    "grades"
   ]
  },
  {
   "cell_type": "code",
   "execution_count": 42,
   "id": "652462e2-60d0-4bfe-9c04-2d740ba53df8",
   "metadata": {},
   "outputs": [
    {
     "data": {
      "text/plain": [
       "array([85, 90, 88, 92, 95, 80, 75, 98, 89, 83])"
      ]
     },
     "execution_count": 42,
     "metadata": {},
     "output_type": "execute_result"
    }
   ],
   "source": [
    "grades"
   ]
  },
  {
   "cell_type": "code",
   "execution_count": 44,
   "id": "7d247b22-1a1d-43ac-9783-9a8f96b31c63",
   "metadata": {},
   "outputs": [
    {
     "data": {
      "text/plain": [
       "1"
      ]
     },
     "execution_count": 44,
     "metadata": {},
     "output_type": "execute_result"
    }
   ],
   "source": [
    "grades.ndim"
   ]
  },
  {
   "cell_type": "code",
   "execution_count": 34,
   "id": "bce707cf-042a-41e6-8ad8-9fc5176f24c5",
   "metadata": {},
   "outputs": [],
   "source": [
    "## Use numpy functions to calculate the mean, median, and standard deviation of the grades."
   ]
  },
  {
   "cell_type": "code",
   "execution_count": 54,
   "id": "98145537-90e5-4458-ba2c-8cb1679cc6f8",
   "metadata": {},
   "outputs": [
    {
     "data": {
      "text/plain": [
       "87.5"
      ]
     },
     "execution_count": 54,
     "metadata": {},
     "output_type": "execute_result"
    }
   ],
   "source": [
    "np.mean(grades)"
   ]
  },
  {
   "cell_type": "code",
   "execution_count": 56,
   "id": "022879cc-4f6a-4a55-84f3-fb5ce6ff3b43",
   "metadata": {},
   "outputs": [
    {
     "data": {
      "text/plain": [
       "88.5"
      ]
     },
     "execution_count": 56,
     "metadata": {},
     "output_type": "execute_result"
    }
   ],
   "source": [
    "np.median(grades)"
   ]
  },
  {
   "cell_type": "code",
   "execution_count": 58,
   "id": "f3a02738-d482-4760-b0cd-a1709a966281",
   "metadata": {},
   "outputs": [
    {
     "data": {
      "text/plain": [
       "6.591661399070799"
      ]
     },
     "execution_count": 58,
     "metadata": {},
     "output_type": "execute_result"
    }
   ],
   "source": [
    "np.std(grades)"
   ]
  },
  {
   "cell_type": "code",
   "execution_count": 60,
   "id": "929e45bc-8e62-4518-aa32-1c18e229b49d",
   "metadata": {},
   "outputs": [],
   "source": [
    "##Use numpy function to find the maximum and minimum of the grades."
   ]
  },
  {
   "cell_type": "code",
   "execution_count": 62,
   "id": "cf9fecbd-f7c8-4e96-91be-86a7beb144d5",
   "metadata": {},
   "outputs": [
    {
     "data": {
      "text/plain": [
       "75"
      ]
     },
     "execution_count": 62,
     "metadata": {},
     "output_type": "execute_result"
    }
   ],
   "source": [
    "np.min(grades)"
   ]
  },
  {
   "cell_type": "code",
   "execution_count": 64,
   "id": "323dfe3e-2798-4ceb-80b6-65e75cd01f6b",
   "metadata": {},
   "outputs": [
    {
     "data": {
      "text/plain": [
       "98"
      ]
     },
     "execution_count": 64,
     "metadata": {},
     "output_type": "execute_result"
    }
   ],
   "source": [
    "np.max(grades)"
   ]
  },
  {
   "cell_type": "code",
   "execution_count": 66,
   "id": "ba42a4be-7f21-4bd2-8e54-9d4c5ec827ca",
   "metadata": {},
   "outputs": [],
   "source": [
    "## Use numpy function to sort the grades in ascending order."
   ]
  },
  {
   "cell_type": "code",
   "execution_count": 70,
   "id": "74f46205-1bcc-4308-961e-530567e7f75a",
   "metadata": {},
   "outputs": [
    {
     "data": {
      "text/plain": [
       "array([75, 80, 83, 85, 88, 89, 90, 92, 95, 98])"
      ]
     },
     "execution_count": 70,
     "metadata": {},
     "output_type": "execute_result"
    }
   ],
   "source": [
    "np.sort(grades)"
   ]
  },
  {
   "cell_type": "code",
   "execution_count": 72,
   "id": "6255ace9-ea40-4eb3-9db8-2b01138c7a3c",
   "metadata": {},
   "outputs": [],
   "source": [
    "## Use numpy function to find the index of the highest grade in the array."
   ]
  },
  {
   "cell_type": "code",
   "execution_count": 74,
   "id": "b61eba6a-a1d1-4feb-889b-1d75d89fba55",
   "metadata": {},
   "outputs": [
    {
     "data": {
      "text/plain": [
       "7"
      ]
     },
     "execution_count": 74,
     "metadata": {},
     "output_type": "execute_result"
    }
   ],
   "source": [
    "np.argmax(grades)"
   ]
  },
  {
   "cell_type": "code",
   "execution_count": 76,
   "id": "3ae43303-2b75-49fa-839c-f5e87ef41e8a",
   "metadata": {},
   "outputs": [],
   "source": [
    "## Use numpy function to count the number of students who scored above 90."
   ]
  },
  {
   "cell_type": "code",
   "execution_count": 78,
   "id": "0cbf7981-5cdd-4ad4-9fbe-0a301c2e181e",
   "metadata": {},
   "outputs": [
    {
     "data": {
      "text/plain": [
       "3"
      ]
     },
     "execution_count": 78,
     "metadata": {},
     "output_type": "execute_result"
    }
   ],
   "source": [
    "np.sum(grades > 90)"
   ]
  },
  {
   "cell_type": "code",
   "execution_count": 80,
   "id": "d19ca6db-f2b9-480a-b7a8-2db131e8765d",
   "metadata": {},
   "outputs": [],
   "source": [
    "## Use numpy function to calculate the percentage of students who scored above 90."
   ]
  },
  {
   "cell_type": "code",
   "execution_count": null,
   "id": "00a7f96d-72e7-4848-b026-dd6d592b5857",
   "metadata": {},
   "outputs": [],
   "source": []
  },
  {
   "cell_type": "code",
   "execution_count": 83,
   "id": "eeec215c-6ee3-4aa0-9b6b-2d773d32ef8a",
   "metadata": {},
   "outputs": [],
   "source": [
    "## Use numpy function to calculate the percentage of students who scored below 75."
   ]
  },
  {
   "cell_type": "code",
   "execution_count": 85,
   "id": "d2f0175d-12ec-4ab4-94b7-1867f4cc2261",
   "metadata": {},
   "outputs": [
    {
     "data": {
      "text/plain": [
       "0"
      ]
     },
     "execution_count": 85,
     "metadata": {},
     "output_type": "execute_result"
    }
   ],
   "source": [
    "np.sum(grades < 75)"
   ]
  },
  {
   "cell_type": "code",
   "execution_count": 89,
   "id": "d30f0bf5-2005-4699-900c-15783111304d",
   "metadata": {},
   "outputs": [],
   "source": [
    "## Use numpy function to extract all the grades above 90 and put them in a new array called \"high_performers\"."
   ]
  },
  {
   "cell_type": "code",
   "execution_count": 95,
   "id": "20a70c56-4747-44c3-b5b4-8b3a6782346e",
   "metadata": {},
   "outputs": [],
   "source": [
    "high_performers = grades[grades > 90]"
   ]
  },
  {
   "cell_type": "code",
   "execution_count": 97,
   "id": "65a90e1b-f642-4864-9c2a-458112ed9f7c",
   "metadata": {},
   "outputs": [
    {
     "data": {
      "text/plain": [
       "array([92, 95, 98])"
      ]
     },
     "execution_count": 97,
     "metadata": {},
     "output_type": "execute_result"
    }
   ],
   "source": [
    "high_performers"
   ]
  },
  {
   "cell_type": "code",
   "execution_count": 99,
   "id": "c44846bb-2124-4bf3-9088-6fa912658f00",
   "metadata": {},
   "outputs": [],
   "source": [
    "## Create a new array called \"passing_grades\" that contains all the grades above 75."
   ]
  },
  {
   "cell_type": "code",
   "execution_count": 101,
   "id": "e78ce1d5-d32b-465d-b649-b6919b77c109",
   "metadata": {},
   "outputs": [],
   "source": [
    "passing_grades = grades[grades > 75]"
   ]
  },
  {
   "cell_type": "code",
   "execution_count": 103,
   "id": "287f8c53-0a85-4255-9915-b96fdfd114fa",
   "metadata": {},
   "outputs": [
    {
     "data": {
      "text/plain": [
       "array([85, 90, 88, 92, 95, 80, 98, 89, 83])"
      ]
     },
     "execution_count": 103,
     "metadata": {},
     "output_type": "execute_result"
    }
   ],
   "source": [
    "passing_grades"
   ]
  },
  {
   "cell_type": "code",
   "execution_count": null,
   "id": "a28bc44f-5f09-471d-a630-0b43b2e0fea1",
   "metadata": {},
   "outputs": [],
   "source": []
  }
 ],
 "metadata": {
  "kernelspec": {
   "display_name": "Python 3 (ipykernel)",
   "language": "python",
   "name": "python3"
  },
  "language_info": {
   "codemirror_mode": {
    "name": "ipython",
    "version": 3
   },
   "file_extension": ".py",
   "mimetype": "text/x-python",
   "name": "python",
   "nbconvert_exporter": "python",
   "pygments_lexer": "ipython3",
   "version": "3.12.4"
  }
 },
 "nbformat": 4,
 "nbformat_minor": 5
}
